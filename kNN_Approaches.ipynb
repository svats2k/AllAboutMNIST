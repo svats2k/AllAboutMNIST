{
 "cells": [
  {
   "cell_type": "markdown",
   "metadata": {},
   "source": [
    "# Using Numpy"
   ]
  },
  {
   "cell_type": "code",
   "execution_count": 1,
   "metadata": {},
   "outputs": [],
   "source": [
    "%matplotlib inline "
   ]
  },
  {
   "cell_type": "code",
   "execution_count": 2,
   "metadata": {},
   "outputs": [
    {
     "name": "stderr",
     "output_type": "stream",
     "text": [
      "Using TensorFlow backend.\n"
     ]
    }
   ],
   "source": [
    "import os, sys, time\n",
    "import numpy as np\n",
    "import pandas as pd\n",
    "import matplotlib.pyplot as plt\n",
    "from sklearn.decomposition import PCA\n",
    "from sklearn.neighbors import KNeighborsClassifier\n",
    "from keras.datasets import mnist"
   ]
  },
  {
   "cell_type": "code",
   "execution_count": 3,
   "metadata": {},
   "outputs": [],
   "source": [
    "def knnEucledianIdxs(X,v,k):\n",
    "        distances = np.sqrt(np.sum((X-v)**2, axis=1))\n",
    "        #print distances\n",
    "        closest_idxs = np.argsort(distances)[:k]\n",
    "        #print closest_idxs\n",
    "\n",
    "        return closest_idxs\n",
    "\n",
    "def knnEucledian(X,v,k):\n",
    "        idxs = knnEucledianIdxs(X,v,k)    \n",
    "        #print X[idxs]\n",
    "\n",
    "        return X[idxs]\n",
    "\n",
    "def knnEucledianLabels(X,y,v,k):\n",
    "        closest_neighbours = knnEucledianIdxs(X, v, k)\n",
    "        labels = y[closest_neighbours]\n",
    "        unq, count = np.unique(labels, return_counts=True)\n",
    "        c_dict = {l: c for l, c in zip(unq, count)}\n",
    "        \n",
    "        return unq[np.argmax(count)], c_dict\n",
    "\n",
    "def knnPredict(X,y,v,k, y_label=None, dist_measure_func=knnEucledianIdxs):\n",
    "        \n",
    "        pred_label, c_dict = knnEucledianLabels(X, y, v, k)\n",
    "\n",
    "        return pred_label\n",
    "\n",
    "def knnCosine(X,v,k):\n",
    "        xy = np.dot(X,v)\n",
    "        x2 = np.sqrt(np.sum(X**2, axis=1))\n",
    "        y2 = np.sqrt(np.sum(v**2))\n",
    "        \n",
    "        distances = (xy/x2)/y2\n",
    "        \n",
    "        return X[np.argsort(distances)[:k]]\n",
    "\n",
    "def getAccuracy(y_pred, y_test):\n",
    "        accuracy = np.sum((np.array(y_pred) == np.array(y_test)))*100./len(y_test)\n",
    "        return accuracy"
   ]
  },
  {
   "cell_type": "code",
   "execution_count": 4,
   "metadata": {},
   "outputs": [],
   "source": [
    "def mnistPredict(k=50, skl=False):\n",
    "        start_time = time.time()\n",
    "\n",
    "        skl_knn = KNeighborsClassifier(n_neighbors=k, n_jobs=6) \n",
    "        \n",
    "        (X_train, y_train), (X_test, y_test) = mnist.load_data()\n",
    "        # Flattening the inputs\n",
    "        X_train = X_train.reshape(-1,784)*1.\n",
    "        X_test = X_test.reshape(-1,784)*1.\n",
    "\n",
    "        y_pred = []\n",
    "        y_obs = []\n",
    "        num_dpoint = 100\n",
    "        rand_idxs = np.random.choice(X_test.shape[0], num_dpoint)\n",
    "        \n",
    "        if skl:\n",
    "                skl_knn.fit(X_train, y_train)\n",
    "                print 'Model fit complete in (%.3f seconds) ... Prediction in progress ...'%(time.time() - start_time)\n",
    "                y_pred = skl_knn.predict(X_test[rand_idxs])\n",
    "                accuracy = getAccuracy(y_pred, y_test[rand_idxs])\n",
    "        else:\n",
    "                for idx, x_test in enumerate(X_test[rand_idxs]):\n",
    "                        pred = knnPredict(X_train, y_train, x_test, k, y_test[rand_idxs[idx]])\n",
    "                        y_pred.append(pred)\n",
    "                        y_obs.append(y_test[rand_idxs[idx]])\n",
    "                        accuracy = getAccuracy(y_pred, y_obs)\n",
    "\n",
    "        print 'Model Build (k = %d) Stats: Accuracy %.3f, Time Taken %.3f'%(k, accuracy, time.time() - start_time)\n",
    "        \n",
    "        return accuracy"
   ]
  },
  {
   "cell_type": "code",
   "execution_count": 5,
   "metadata": {},
   "outputs": [
    {
     "name": "stdout",
     "output_type": "stream",
     "text": [
      "Model Build (k = 50) Stats: Accuracy 95.000, Time Taken 21.137\n",
      "Model Build (k = 75) Stats: Accuracy 93.000, Time Taken 22.014\n",
      "Model Build (k = 100) Stats: Accuracy 91.000, Time Taken 20.750\n",
      "Model Build (k = 125) Stats: Accuracy 90.000, Time Taken 20.486\n",
      "Model Build (k = 150) Stats: Accuracy 95.000, Time Taken 21.395\n",
      "Model Build (k = 175) Stats: Accuracy 94.000, Time Taken 20.952\n",
      "Model Build (k = 200) Stats: Accuracy 92.000, Time Taken 22.034\n"
     ]
    },
    {
     "data": {
      "image/png": "[encoded data removed]",
      "text/plain": [
       "<Figure size 432x288 with 1 Axes>"
      ]
     },
     "metadata": {},
     "output_type": "display_data"
    }
   ],
   "source": [
    "def plotAccuracies():\n",
    "    accuracies = []\n",
    "    k = range(50,225,25)\n",
    "\n",
    "    for iter_k in k:\n",
    "        accuracies.append(mnistPredict(k=iter_k))\n",
    "\n",
    "    fig, ax = plt.subplots()\n",
    "    ax.set_title('Accuracy')\n",
    "    ax.set_xlabel('k')\n",
    "    ax.plot(k,accuracies, linestyle='--', marker='o', color='b')\n",
    "    \n",
    "plotAccuracies()"
   ]
  }
 ],
 "metadata": {
  "kernelspec": {
   "display_name": "Python 2",
   "language": "python",
   "name": "python2"
  },
  "language_info": {
   "codemirror_mode": {
    "name": "ipython",
    "version": 2
   },
   "file_extension": ".py",
   "mimetype": "text/x-python",
   "name": "python",
   "nbconvert_exporter": "python",
   "pygments_lexer": "ipython2",
   "version": "2.7.15rc1"
  }
 },
 "nbformat": 4,
 "nbformat_minor": 2
}
