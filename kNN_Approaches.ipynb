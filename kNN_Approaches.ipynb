{
 "cells": [
  {
   "cell_type": "markdown",
   "metadata": {},
   "source": [
    "# Using Numpy"
   ]
  },
  {
   "cell_type": "code",
   "execution_count": 4,
   "metadata": {},
   "outputs": [],
   "source": [
    "import os, sys, time\n",
    "import numpy as np\n",
    "import pandas as pd\n",
    "import matplotlib.pyplot as plt\n",
    "from sklearn.decomposition import PCA\n",
    "from sklearn.neighbors import KNeighborsClassifier\n",
    "from keras.datasets import mnist"
   ]
  },
  {
   "cell_type": "code",
   "execution_count": 5,
   "metadata": {},
   "outputs": [],
   "source": [
    "# Importing MNIST dataset\n",
    "(X_train, y_train), (X_test, y_test) = mnist.load_data()\n",
    "\n",
    "# Flattening the inputs\n",
    "X_train = X_train.reshape(-1,784)/255.\n",
    "X_test = X_test.reshape(-1,784)/255."
   ]
  },
  {
   "cell_type": "code",
   "execution_count": 7,
   "metadata": {},
   "outputs": [],
   "source": [
    "def knnEucledianIdxs(X,v,k):\n",
    "        distances = np.sqrt(np.sum((X-v)**2, axis=1))\n",
    "        #print distances\n",
    "        closest_idxs = np.argsort(distances)[:k]\n",
    "        #print closest_idxs\n",
    "\n",
    "        return closest_idxs\n",
    "\n",
    "def knnEucledian(X,v,k):\n",
    "        idxs = knnEucledianIdxs(X,v,k)    \n",
    "        #print X[idxs]\n",
    "\n",
    "        return X[idxs]\n",
    "\n",
    "def knnEucledianLabels(X,y,v,k):\n",
    "        closest_neighbours = knnEucledianIdxs(X, v, k)\n",
    "        labels = y[closest_neighbours]\n",
    "        unq, count = np.unique(labels, return_counts=True)\n",
    "        c_dict = {l: c for l, c in zip(unq, count)}\n",
    "        \n",
    "        return unq[np.argmax(count)], c_dict\n",
    "\n",
    "def knnPredict(X,y,v,k, y_label=None, dist_measure_func=knnEucledianIdxs):\n",
    "        \n",
    "        pred_label, c_dict = knnEucledianLabels(X, y, v, k)\n",
    "\n",
    "        return pred_label\n",
    "\n",
    "def knnCosine(X,v,k):\n",
    "        xy = np.dot(X,v)\n",
    "        x2 = np.sqrt(np.sum(X**2, axis=1))\n",
    "        y2 = np.sqrt(np.sum(v**2))\n",
    "        \n",
    "        distances = (xy/x2)/y2\n",
    "        \n",
    "        return X[np.argsort(distances)[:k]]\n",
    "\n",
    "def getAccuracy(y_pred, y_test):\n",
    "        accuracy = np.sum((np.array(y_pred) == np.array(y_test)))*100./len(y_test)\n",
    "        return accuracy\n"
   ]
  }
 ],
 "metadata": {
  "kernelspec": {
   "display_name": "Python 2",
   "language": "python",
   "name": "python2"
  },
  "language_info": {
   "codemirror_mode": {
    "name": "ipython",
    "version": 2
   },
   "file_extension": ".py",
   "mimetype": "text/x-python",
   "name": "python",
   "nbconvert_exporter": "python",
   "pygments_lexer": "ipython2",
   "version": "2.7.15rc1"
  }
 },
 "nbformat": 4,
 "nbformat_minor": 2
}
