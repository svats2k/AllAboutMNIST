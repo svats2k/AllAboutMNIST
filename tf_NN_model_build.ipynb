{
 "cells": [
  {
   "cell_type": "markdown",
   "metadata": {},
   "source": [
    "## MNIST using tensorflow\n",
    "\n",
    "TF features used:\n",
    "* data pipeline using tf.data\n",
    "* learning rate decay\n",
    "\n",
    "Neural Network Architecture\n",
    "* 2 hidden layers with 32 and 64 neurons in each and ReLu activations\n",
    "* using sparse_softmax_cross_entropy which consumes the logits directly instead of the softmax output.  It has softmax computation built within itself\n",
    "* using a learning rate scheduler to decay learning rate"
   ]
  },
  {
   "cell_type": "code",
   "execution_count": 1,
   "metadata": {},
   "outputs": [],
   "source": [
    "import os, math, time\n",
    "import tensorflow as tf\n",
    "import numpy as np\n",
    "import matplotlib.pyplot as plt"
   ]
  },
  {
   "cell_type": "code",
   "execution_count": 2,
   "metadata": {},
   "outputs": [
    {
     "name": "stderr",
     "output_type": "stream",
     "text": [
      "Using TensorFlow backend.\n"
     ]
    }
   ],
   "source": [
    "from preprocessed_mnist import load_dataset\n",
    "X_train, y_train, X_val, y_val, X_test, y_test = load_dataset()"
   ]
  },
  {
   "cell_type": "markdown",
   "metadata": {},
   "source": [
    "# Neural Network Architecture\n",
    "\n",
    "* A 2 layer hidden network with 64 and 32 hidden neurons going to a 10 layer output layer\n",
    "* Introducing a softmax layer\n",
    "* Using a gradient descent optimizer\n",
    "* Works on batches of 128 images"
   ]
  },
  {
   "cell_type": "code",
   "execution_count": 3,
   "metadata": {},
   "outputs": [],
   "source": [
    "# Flatten inputs\n",
    "X_train = X_train.reshape(-1, 28*28)\n",
    "X_test = X_test.reshape(-1,28*28)"
   ]
  },
  {
   "cell_type": "code",
   "execution_count": 7,
   "metadata": {},
   "outputs": [],
   "source": [
    "# Building the model pipeline\n",
    "def model(lr=1e-4):\n",
    "    \n",
    "    layer1_num_neurons = 64\n",
    "    layer2_num_neurons = 32\n",
    "    \n",
    "    global_step = tf.Variable(0, trainable=False)\n",
    "    starter_learning_rate = lr\n",
    "    learning_rate = tf.train.exponential_decay(starter_learning_rate, global_step,\n",
    "                                               2000, 0.98, staircase=True)\n",
    "    \n",
    "    with tf.name_scope('Inputs'):\n",
    "        tf_X = tf.placeholder(shape=(None, 28*28), dtype=tf.float32, name='tf_X')\n",
    "        tf_y = tf.placeholder(shape=(None,), dtype=tf.int32, name='tf_y')\n",
    "    \n",
    "    # First hidden layer\n",
    "    with tf.name_scope('Layer1'):\n",
    "        W1 = tf.Variable(tf.random_normal(shape=(28*28, layer1_num_neurons), mean=0, stddev=1e-3), name='W1')\n",
    "        b1 = tf.Variable(tf.random_uniform(shape=(layer1_num_neurons,)), name='b1')\n",
    "        l1_act_in = tf.add(tf.matmul(tf_X, W1),b1, name='l1_act_in')\n",
    "        l1_out = tf.nn.relu(l1_act_in, name='l1_out')\n",
    "        tf.add_to_collection('Weights', W1)\n",
    "        tf.add_to_collection('Biases', b1)\n",
    "    \n",
    "    # Second hidden layer\n",
    "    with tf.name_scope('Layer2'):\n",
    "        W2 = tf.Variable(tf.random_normal(shape=(layer1_num_neurons, layer2_num_neurons), mean=0, stddev=1e-3), name='W2')\n",
    "        b2 = tf.Variable(tf.random_uniform(shape=(layer2_num_neurons,)), name='b2')\n",
    "        l2_act_in = tf.add(tf.matmul(l1_out, W2),b2, name='l2_act_in')\n",
    "        l2_out = tf.nn.relu(l2_act_in,name='l2_out')\n",
    "        tf.add_to_collection('Weights', W2)\n",
    "        tf.add_to_collection('Biases', b2)\n",
    "        \n",
    "    # 3rd layer with num label neurons\n",
    "    with tf.name_scope('FinalLayer'):\n",
    "        Wf = tf.Variable(tf.random_normal(shape=(layer2_num_neurons, 10), mean=0, stddev=1e-3), name='Wf')\n",
    "        bf = tf.Variable(tf.random_uniform(shape=(10,)), name='bf')\n",
    "        logits = tf.add(tf.matmul(l2_out, Wf),bf, name='logits_in')\n",
    "        logits = tf.nn.relu(logits,name='logits')\n",
    "        tf.add_to_collection('Weights', Wf)\n",
    "        tf.add_to_collection('Biases', bf)\n",
    "        \n",
    "    # Accuracy computation\n",
    "    with tf.name_scope('AccuracyComputation'):\n",
    "        pred_labels = tf.cast(tf.argmax(logits, axis=1), tf.int32)\n",
    "        bool_check = tf.equal(pred_labels, tf_y)\n",
    "        accuracy = 100.*tf.reduce_mean(tf.cast(bool_check, tf.float32))\n",
    "        \n",
    "    with tf.name_scope('LossOpt'):\n",
    "        #Loss function\n",
    "        loss = tf.reduce_mean(tf.losses.sparse_softmax_cross_entropy(labels=tf_y, logits=logits), name='loss')\n",
    "        tf.add_to_collection('Loss', loss)\n",
    "        #Optimization\n",
    "        train_op = tf.train.AdagradOptimizer(learning_rate=learning_rate).minimize(loss, global_step = global_step)\n",
    "#         train_op = tf.train.AdagradOptimizer(learning_rate=lr).minimize(loss)\n",
    "    \n",
    "    return tf_X, tf_y, learning_rate, logits, loss, train_op, accuracy"
   ]
  },
  {
   "cell_type": "code",
   "execution_count": 10,
   "metadata": {},
   "outputs": [
    {
     "name": "stdout",
     "output_type": "stream",
     "text": [
      "Num Steps --> Num batches 390 Num Epochs 500 \n",
      "Epoch: 50 Batch: 390 lr 0.00834 train accur. 94.53 test accur. 93.23 Elapsed time 47.28 secs\n",
      "Epoch: 100 Batch: 390 lr 0.00681 train accur. 94.53 test accur. 95.27 Elapsed time 47.15 secs\n",
      "Epoch: 150 Batch: 390 lr 0.00557 train accur. 97.66 test accur. 95.64 Elapsed time 46.86 secs\n",
      "Epoch: 200 Batch: 390 lr 0.00464 train accur. 98.44 test accur. 95.96 Elapsed time 47.02 secs\n",
      "Epoch: 250 Batch: 390 lr 0.00379 train accur. 98.44 test accur. 96.02 Elapsed time 49.78 secs\n",
      "Epoch: 300 Batch: 390 lr 0.0031 train accur. 97.66 test accur. 96.15 Elapsed time 46.53 secs\n",
      "Epoch: 350 Batch: 390 lr 0.00253 train accur. 97.66 test accur. 96.15 Elapsed time 46.13 secs\n",
      "Epoch: 400 Batch: 390 lr 0.00211 train accur. 98.44 test accur. 96.2 Elapsed time 46.62 secs\n",
      "Epoch: 450 Batch: 390 lr 0.00172 train accur. 97.66 test accur. 96.21 Elapsed time 46.76 secs\n",
      "Epoch: 500 Batch: 390 lr 0.00141 train accur. 96.09 test accur. 96.25 Elapsed time 46.34 secs\n",
      "End of dataset\n"
     ]
    }
   ],
   "source": [
    "num_epochs = 500\n",
    "batch_size = 128\n",
    "num_batches = X_train.shape[0]/batch_size\n",
    "print 'Num Steps --> Num batches {} Num Epochs {} '.format(num_batches, num_epochs)\n",
    "\n",
    "tf.reset_default_graph()\n",
    "\n",
    "# Using tf.data to create an iterator for the batches\n",
    "train_X_tf = tf.placeholder(X_train.dtype, X_train.shape)\n",
    "train_y_tf = tf.placeholder(y_train.dtype, y_train.shape)\n",
    "\n",
    "dataset = tf.data.Dataset.from_tensor_slices((train_X_tf, train_y_tf))\n",
    "dataset = dataset.shuffle(buffer_size=X_train.shape[0]).repeat(num_epochs)\n",
    "dataset = dataset.batch(batch_size=batch_size)\n",
    "\n",
    "d_iterator = dataset.make_initializable_iterator()\n",
    "next_batch = d_iterator.get_next()\n",
    "\n",
    "tf_X, tf_y, curr_lr, logits, loss, train_op, accuracy = model(1e-2)\n",
    "\n",
    "init_op = tf.global_variables_initializer()\n",
    "\n",
    "batch = 0\n",
    "\n",
    "with tf.Session() as sess:\n",
    "    \n",
    "    start_time = time.time()\n",
    "    \n",
    "    sess.run(init_op)\n",
    "    \n",
    "    sess.run(d_iterator.initializer, feed_dict={train_X_tf:X_train, train_y_tf: y_train})\n",
    "    overall_test_loss = []\n",
    "    overall_train_loss = []\n",
    "    overall_test_accuracy = []\n",
    "    overall_train_accuracy = []\n",
    "    \n",
    "    while True:\n",
    "        batch += 1\n",
    "        epoch = int(math.ceil(batch*batch_size*1. / X_train.shape[0]))\n",
    "        try:\n",
    "            batch_X, batch_y = sess.run(next_batch)\n",
    "        except tf.errors.OutOfRangeError:\n",
    "            print 'End of dataset'\n",
    "            break\n",
    "\n",
    "        train_loss, _, logits_, accuracy_, curr_lr_ = sess.run([loss, train_op, logits, accuracy, curr_lr], \n",
    "                                                   feed_dict={tf_X:batch_X, tf_y:batch_y})\n",
    "                \n",
    "        if batch % (num_batches/2) == 0:\n",
    "            test_loss, test_accuracy = sess.run([loss, accuracy], feed_dict={tf_X:X_test, tf_y:y_test})\n",
    "            train_loss, train_accuracy = sess.run([loss, accuracy], feed_dict={tf_X:batch_X, tf_y:batch_y})\n",
    "\n",
    "            overall_test_loss.append(test_loss)\n",
    "            overall_train_loss.append(train_loss)\n",
    "            overall_test_accuracy.append(test_accuracy)\n",
    "            overall_train_accuracy.append(train_accuracy)\n",
    "\n",
    "        if epoch % 50 == 0 and batch %num_batches == 0:\n",
    "            print 'Epoch: {} Batch: {} lr {} train accur. {} test accur. {} Elapsed time {} secs'.format(epoch, \n",
    "                                    int(math.ceil((batch - 1e-8)% num_batches)),\n",
    "                                    round(curr_lr_,5),\n",
    "                                    round(train_accuracy,2), round(test_accuracy,2),\n",
    "                                    round(time.time() - start_time,2))\n",
    "            start_time = time.time()"
   ]
  },
  {
   "cell_type": "code",
   "execution_count": 11,
   "metadata": {},
   "outputs": [
    {
     "data": {
      "image/png": "[encoded data removed]",
      "text/plain": [
       "<Figure size 640x480 with 2 Axes>"
      ]
     },
     "metadata": {},
     "output_type": "display_data"
    }
   ],
   "source": [
    "# Plotting\n",
    "plt.figure(num=None, figsize=(8, 6), dpi=80, facecolor='w', edgecolor='k')\n",
    "plt.subplot(1,2,1)\n",
    "plt.plot(range(len(overall_test_loss)),overall_test_loss, label='Validation Loss')\n",
    "plt.plot(range(len(overall_train_loss)),overall_train_loss, label='Training Loss')\n",
    "plt.xlabel('Iterations')\n",
    "plt.ylabel('Loss')\n",
    "plt.legend()\n",
    "plt.grid()\n",
    "\n",
    "plt.subplot(1,2,2)\n",
    "plt.plot(range(len(overall_test_accuracy)),overall_test_accuracy, label='Validation Accuracy')\n",
    "plt.plot(range(len(overall_train_accuracy)),overall_train_accuracy, label='Training Accuracy')\n",
    "plt.xlabel('Iterations')\n",
    "plt.ylabel('Accuracy')\n",
    "plt.legend()\n",
    "plt.grid()"
   ]
  }
 ],
 "metadata": {
  "kernelspec": {
   "display_name": "Python 2",
   "language": "python",
   "name": "python2"
  },
  "language_info": {
   "codemirror_mode": {
    "name": "ipython",
    "version": 2
   },
   "file_extension": ".py",
   "mimetype": "text/x-python",
   "name": "python",
   "nbconvert_exporter": "python",
   "pygments_lexer": "ipython2",
   "version": "2.7.15rc1"
  }
 },
 "nbformat": 4,
 "nbformat_minor": 2
}
